{
 "cells": [
  {
   "cell_type": "code",
   "execution_count": 108,
   "id": "8b72ff55-404b-4b38-bf86-b796f1619243",
   "metadata": {},
   "outputs": [],
   "source": [
    "# importing Selenium Libs\n",
    "from selenium.webdriver import Chrome\n",
    "from selenium.webdriver.chrome.service import Service\n",
    "from webdriver_manager.chrome import ChromeDriverManager\n",
    "from selenium.webdriver.common.by import By\n",
    "from selenium.webdriver.support.select import Select\n",
    "from selenium.webdriver.common.keys import Keys\n",
    "\n",
    "from selenium.webdriver.support.ui import WebDriverWait\n",
    "from selenium.webdriver.support import expected_conditions as EC\n",
    "\n",
    "from selenium.common.exceptions import TimeoutException, NoSuchElementException\n",
    "\n",
    "# this line find the Browser Driver and opened them\n",
    "driver = Chrome(service=Service(ChromeDriverManager().install()))\n",
    "\n",
    "# set window size\n",
    "width = 1450\n",
    "height = 950\n",
    "driver.set_window_size(width, height)\n",
    "\n",
    "driver.get('https://twitter.com')\n"
   ]
  },
  {
   "cell_type": "code",
   "execution_count": 109,
   "id": "baacd87a-562b-4687-bc65-93195009db27",
   "metadata": {},
   "outputs": [],
   "source": [
    "# Importent functions\n",
    "import time\n",
    "\n",
    "def click_button(by:By, value: str):\n",
    "    button = driver.find_element(by=by, value=value)\n",
    "    button.click()\n",
    "    time.sleep(1) \n",
    "    \n",
    "    # this function for geting inputs webpages value\n",
    "def add_input(by:By, value: str, text: str):\n",
    "    field = driver.find_element(by=by, value=value)\n",
    "    field.send_keys(text)\n",
    "    time.sleep(1)\n",
    "    \n",
    "def enter(by:By, value:str):\n",
    "    enter = driver.find_element(by=by, value=value)\n",
    "    enter.send_keys(Keys.ENTER)\n"
   ]
  },
  {
   "cell_type": "code",
   "execution_count": null,
   "id": "c308fee9",
   "metadata": {},
   "outputs": [],
   "source": [
    "# accept cookis of the project\n",
    "click_button(by=By.XPATH,\n",
    "    value='//div[@role=\"button\" and contains(.//text(), \"Accept all cookies\")]')"
   ]
  },
  {
   "cell_type": "code",
   "execution_count": 111,
   "id": "0ce5d8a7",
   "metadata": {},
   "outputs": [],
   "source": [
    "# go to login section\n",
    "click_button(by=By.XPATH, \n",
    "    value=\"//a[@data-testid='loginButton']\")"
   ]
  },
  {
   "cell_type": "code",
   "execution_count": 112,
   "id": "f7a80522",
   "metadata": {},
   "outputs": [],
   "source": [
    "# add email\n",
    "add_input(by=By.XPATH, \n",
    "    value=\"//input[@autocomplete='username']\", text='')\n",
    "\n",
    "time.sleep(2)\n",
    "\n",
    "click_button(by=By.XPATH, \n",
    "    value='//div[@role=\"button\" and contains(.//text(), \"Next\")]')\n",
    "    "
   ]
  },
  {
   "cell_type": "code",
   "execution_count": 113,
   "id": "e930fa60",
   "metadata": {},
   "outputs": [],
   "source": [
    "# adding password for login and login\n",
    "add_input(by=By.XPATH,\n",
    "    value=\"//input[@autocomplete='current-password']\", text='')\n",
    "\n",
    "time.sleep(2)\n",
    "\n",
    "click_button(by=By.XPATH,\n",
    "    value=\"//div[@data-testid='LoginForm_Login_Button']\")\n",
    "        \n",
    "    "
   ]
  },
  {
   "cell_type": "code",
   "execution_count": 114,
   "id": "4190dee1",
   "metadata": {},
   "outputs": [],
   "source": [
    "# search function username\n",
    "def search(username):\n",
    "    add_input(by=By.XPATH, value=\"//input[@placeholder='Search']\", text=username)\n",
    "    enter(by=By.XPATH, value=\"//input[@placeholder='Search']\")"
   ]
  },
  {
   "cell_type": "code",
   "execution_count": 119,
   "id": "462e0851",
   "metadata": {},
   "outputs": [],
   "source": [
    "# set Target ID\n",
    "def user_account(username):\n",
    "    user = driver.get('https://twitter.com/'+ username)\n",
    "\n",
    "def user_account_media(username):\n",
    "    driver.get('https://twitter.com/'+ username + '/media')\n",
    "\n",
    "def user_account_likes(username):\n",
    "    driver.get('https://twitter.com/'+ username + '/likes')\n",
    "\n",
    "def user_account_profile(username):\n",
    "    driver.get('https://twitter.com/'+ username + '/photo')\n",
    "\n"
   ]
  },
  {
   "cell_type": "code",
   "execution_count": 123,
   "id": "52e479e0",
   "metadata": {},
   "outputs": [],
   "source": [
    "# Mining Data\n",
    "# - first change to the user\n",
    "\n",
    "import re\n",
    "\n",
    "\n",
    "def user_profile_info(username):\n",
    "    time.sleep(2)\n",
    "    following_element = driver.find_element(by=By.XPATH, value=f\"//a[@href='/{username}/following']\")\n",
    "    followers_element = driver.find_element(by=By.XPATH, value=f\"//a[@href='/{username}/verified_followers']\")\n",
    "    \n",
    "    following_text = following_element.text\n",
    "    followers_text = followers_element.text\n",
    "    \n",
    "    # Define a regular expression pattern to match numbers with optional commas, decimal parts, and suffixes like \"k\" and \"M\"\n",
    "    number_pattern = r'(\\d{1,3}(,\\d{3})*|\\d+)(\\.\\d+)?[kK]?M?'\n",
    "    \n",
    "    # Search for the number pattern in the text and extract the matched number as a string\n",
    "    following_match = re.search(number_pattern, following_text)\n",
    "    followers_match = re.search(number_pattern, followers_text)\n",
    "    \n",
    "    # Convert the matched numbers to integers\n",
    "    following = parse_number(following_match.group()) if following_match else 0\n",
    "    followers = parse_number(followers_match.group()) if followers_match else 0\n",
    "\n",
    "    # geting user Bio\n",
    "    Bio = driver.find_element(by=By.XPATH, value=\"//div[@data-testid='UserDescription']\").text\n",
    "    Location = driver.find_element(by=By.XPATH, value=\"//span[@data-testid='UserLocation']\").text\n",
    "    Joine_date = driver.find_element(by=By.XPATH, value=\"//span[@data-testid='UserJoinDate']\").text\n",
    "    user_post = driver.find_element(By.XPATH, \"//div[contains(@class, 'css-1rynq56') and contains(@class, 'r-dnmrzs') and contains(@class, 'r-1udh08x') and contains(@class, 'r-3s2u2q') and contains(@class, 'r-bcqeeo') and contains(@class, 'r-qvutc0') and contains(@class, 'r-37j5jr') and contains(@class, 'r-n6v787') and contains(@class, 'r-1cwl3u0') and contains(@class, 'r-16dba41')]\").text\n",
    "\n",
    "    return following, followers, Bio, Location, Joine_date, user_post\n",
    "\n",
    "def user_profile_media(username):\n",
    "    user_media = driver.find_element(By.XPATH, \"//div[contains(text(), 'photos & videos')]\").text\n",
    "\n",
    "    return user_media\n",
    "\n",
    "def user_profile_likes(username):\n",
    "    user_likes = driver.find_element(By.XPATH, \"//div[contains(text(), 'Likes')]\").text\n",
    "\n",
    "    return user_likes\n",
    "\n",
    "def user_profile_image(username):\n",
    "    image_element = driver.find_element(By.XPATH, '//div[@class=\"css-175oi2r r-1mlwlqe r-1udh08x r-417010\"]/img')\n",
    "\n",
    "    # Get the value of the src attribute\n",
    "    user_profile = image_element.get_attribute('src')\n",
    "\n",
    "\n",
    "    return user_profile\n",
    "\n",
    "def parse_number(number_str):\n",
    "    # Convert string representation of number to actual number\n",
    "    if number_str.endswith('M'):\n",
    "        return int(float(number_str[:-1]) * 1_000_000)\n",
    "    elif number_str.endswith('k') or number_str.endswith('K'):\n",
    "        return int(float(number_str[:-1]) * 1_000)\n",
    "    else:\n",
    "        return int(float(number_str.replace(',', '')))"
   ]
  },
  {
   "cell_type": "code",
   "execution_count": 126,
   "metadata": {},
   "outputs": [
    {
     "name": "stdout",
     "output_type": "stream",
     "text": [
      " * Serving Flask app '__main__'\n",
      " * Debug mode: off\n"
     ]
    },
    {
     "name": "stderr",
     "output_type": "stream",
     "text": [
      "WARNING: This is a development server. Do not use it in a production deployment. Use a production WSGI server instead.\n",
      " * Running on http://127.0.0.1:5000\n",
      "Press CTRL+C to quit\n"
     ]
    },
    {
     "name": "stderr",
     "output_type": "stream",
     "text": [
      "127.0.0.1 - - [07/Mar/2024 18:40:01] \"POST /process HTTP/1.1\" 200 -\n"
     ]
    }
   ],
   "source": [
    "from flask import Flask, jsonify, request\n",
    "import datetime\n",
    "import json\n",
    "app = Flask(__name__)\n",
    "\n",
    "@app.route('/')\n",
    "def hello_world():\n",
    "    return 'Hello, World!'\n",
    "\n",
    "@app.route('/process', methods=['POST'])\n",
    "def process_data():\n",
    "    req_data = request.get_json()\n",
    "    \n",
    "    # Extracting relevant data from input JSON\n",
    "    username = req_data.get(\"username\")\n",
    "    out_path = req_data.get(\"outPath\")\n",
    "\n",
    "    # time\n",
    "    created_at = datetime.datetime.now()\n",
    "\n",
    "    user_account(username)\n",
    "    time.sleep(4)\n",
    "    # Retrieve following and followers counts\n",
    "    following, followers, Bio, Location, Joine_date, user_post  = user_profile_info(username)\n",
    "    \n",
    "    time.sleep(1)\n",
    "    user_account_media(username)\n",
    "    time.sleep(5)\n",
    "    user_media = user_profile_media(username)\n",
    "\n",
    "    time.sleep(1)\n",
    "    user_account_likes(username)\n",
    "    time.sleep(5)\n",
    "    user_likes = user_profile_likes(username)\n",
    "\n",
    "    time.sleep(1)\n",
    "    user_account_profile(username)\n",
    "    time.sleep(5)\n",
    "    user_profile = user_profile_image(username)\n",
    "\n",
    "    # Dummy output data (replace this with your actual data processing logic)\n",
    "    output_data = {\n",
    "        \"username\": username,\n",
    "        \"following\": following,\n",
    "        \"followers\": followers,\n",
    "        \"user_bio\" : Bio,\n",
    "        \"user_location\" : Location,\n",
    "        \"user_joine_dare\" : Joine_date,\n",
    "        \"user_posts\" : user_post,\n",
    "        \"user_media\" : user_media,\n",
    "        \"user_likes\" : user_likes,\n",
    "        \"user_profile\": user_profile,\n",
    "        \"created_at\" : str(created_at),\n",
    "    }\n",
    "    \n",
    "    # Saving the output data to the specified outPath\n",
    "    if out_path:\n",
    "        with open(out_path, \"w\") as file:\n",
    "            file.write(json.dumps(output_data))\n",
    "    \n",
    "    return jsonify(output_data), 200\n",
    "\n",
    "if __name__ == '__main__':\n",
    "    app.run()\n"
   ]
  },
  {
   "cell_type": "code",
   "execution_count": null,
   "id": "950819f8",
   "metadata": {},
   "outputs": [],
   "source": []
  }
 ],
 "metadata": {
  "kernelspec": {
   "display_name": "Python 3 (ipykernel)",
   "language": "python",
   "name": "python3"
  },
  "language_info": {
   "codemirror_mode": {
    "name": "ipython",
    "version": 3
   },
   "file_extension": ".py",
   "mimetype": "text/x-python",
   "name": "python",
   "nbconvert_exporter": "python",
   "pygments_lexer": "ipython3",
   "version": "3.11.4"
  },
  "widgets": {
   "application/vnd.jupyter.widget-state+json": {
    "state": {},
    "version_major": 2,
    "version_minor": 0
   }
  }
 },
 "nbformat": 4,
 "nbformat_minor": 5
}
