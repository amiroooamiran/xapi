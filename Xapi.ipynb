{
 "cells": [
  {
   "cell_type": "code",
   "execution_count": 5,
   "id": "8b72ff55-404b-4b38-bf86-b796f1619243",
   "metadata": {},
   "outputs": [],
   "source": [
    "# importing Selenium Libs\n",
    "from selenium.webdriver import Chrome\n",
    "from selenium.webdriver.chrome.service import Service\n",
    "from webdriver_manager.chrome import ChromeDriverManager\n",
    "from selenium.webdriver.common.by import By\n",
    "from selenium.webdriver.support.select import Select\n",
    "from selenium.webdriver.common.keys import Keys\n",
    "\n",
    "from selenium.webdriver.support.ui import WebDriverWait\n",
    "from selenium.webdriver.support import expected_conditions as EC\n",
    "\n",
    "from selenium.common.exceptions import TimeoutException, NoSuchElementException\n",
    "\n",
    "# this line find the Browser Driver and opened them\n",
    "driver = Chrome(service=Service(ChromeDriverManager().install()))\n",
    "\n",
    "# set window size\n",
    "width = 1450\n",
    "height = 950\n",
    "driver.set_window_size(width, height)\n",
    "\n",
    "driver.get('https://twitter.com')\n"
   ]
  },
  {
   "cell_type": "code",
   "execution_count": 9,
   "id": "baacd87a-562b-4687-bc65-93195009db27",
   "metadata": {},
   "outputs": [],
   "source": [
    "# Importent functions\n",
    "import time\n",
    "\n",
    "def click_button(by:By, value: str):\n",
    "    button = driver.find_element(by=by, value=value)\n",
    "    button.click()\n",
    "    time.sleep(1) \n",
    "    \n",
    "    # this function for geting inputs webpages value\n",
    "def add_input(by:By, value: str, text: str):\n",
    "    field = driver.find_element(by=by, value=value)\n",
    "    field.send_keys(text)\n",
    "    time.sleep(1)\n",
    "    \n",
    "def enter(by:By, value:str):\n",
    "    enter = driver.find_element(by=by, value=value)\n",
    "    enter.send_keys(Keys.ENTER)\n"
   ]
  },
  {
   "cell_type": "code",
   "execution_count": 10,
   "id": "c308fee9",
   "metadata": {},
   "outputs": [],
   "source": [
    "# accept cookis of the project\n",
    "click_button(by=By.XPATH,\n",
    "    value='//div[@role=\"button\" and contains(.//text(), \"Accept all cookies\")]')"
   ]
  },
  {
   "cell_type": "code",
   "execution_count": 13,
   "id": "0ce5d8a7",
   "metadata": {},
   "outputs": [],
   "source": [
    "# go to login section\n",
    "click_button(by=By.XPATH, \n",
    "    value=\"//a[@data-testid='loginButton']\")"
   ]
  },
  {
   "cell_type": "code",
   "execution_count": 14,
   "id": "f7a80522",
   "metadata": {},
   "outputs": [],
   "source": [
    "# add email\n",
    "add_input(by=By.XPATH, \n",
    "    value=\"//input[@autocomplete='username']\", text='amiranamirooo@gmail.com')\n",
    "\n",
    "time.sleep(2)\n",
    "\n",
    "click_button(by=By.XPATH, \n",
    "    value='//div[@role=\"button\" and contains(.//text(), \"Next\")]')\n",
    "    "
   ]
  },
  {
   "cell_type": "code",
   "execution_count": 15,
   "id": "e930fa60",
   "metadata": {},
   "outputs": [],
   "source": [
    "# adding password for login\n",
    "add_input(by=By.XPATH,\n",
    "    value=\"//input[@autocomplete='current-password']\", text='asen1401')\n",
    "\n",
    "time.sleep(2)\n",
    "\n",
    "click_button(by=By.XPATH,\n",
    "    value=\"//div[@data-testid='LoginForm_Login_Button']\")\n",
    "        \n",
    "    "
   ]
  },
  {
   "cell_type": "code",
   "execution_count": null,
   "id": "4190dee1",
   "metadata": {},
   "outputs": [],
   "source": [
    "from flask import Flask, request\n",
    "\n",
    "app = Flask(__name__)\n",
    "\n",
    "@app.route('/search-data', methods=['POST'])\n",
    "def search_data():\n",
    "    data = request.get_json()\n",
    "    \n",
    "    # argomants\n",
    "    twitts_quantity = data.get('t_quantity')\n",
    "    search_query = data.get('search_query')\n",
    "    filters = data.get('filters')\n",
    "\n",
    "    return \"Data received successfully!\"\n",
    "\n"
   ]
  }
 ],
 "metadata": {
  "kernelspec": {
   "display_name": "Python 3 (ipykernel)",
   "language": "python",
   "name": "python3"
  },
  "language_info": {
   "codemirror_mode": {
    "name": "ipython",
    "version": 3
   },
   "file_extension": ".py",
   "mimetype": "text/x-python",
   "name": "python",
   "nbconvert_exporter": "python",
   "pygments_lexer": "ipython3",
   "version": "3.11.4"
  },
  "widgets": {
   "application/vnd.jupyter.widget-state+json": {
    "state": {},
    "version_major": 2,
    "version_minor": 0
   }
  }
 },
 "nbformat": 4,
 "nbformat_minor": 5
}
